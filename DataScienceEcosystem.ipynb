{
 "cells": [
  {
   "cell_type": "markdown",
   "id": "1494c7b7-e10f-415b-a6e3-bd6e962879be",
   "metadata": {},
   "source": [
    "# Data Science Tools and Ecosystem"
   ]
  },
  {
   "cell_type": "markdown",
   "id": "b418322a-644b-480b-9f66-1d59248c5c93",
   "metadata": {},
   "source": [
    "*In this notebook, Data Science Tools and Ecosystem are summarized.*\n"
   ]
  },
  {
   "cell_type": "markdown",
   "id": "c10dacf0-9ca7-4859-9515-e706498fd610",
   "metadata": {},
   "source": [
    "**Objectives**\n",
    "* List popular data science languages\n",
    "* List popular data science libraries\n",
    "* List popular data science tools"
   ]
  },
  {
   "cell_type": "markdown",
   "id": "4d983fcd-d50d-493a-9cb3-f780320c6b78",
   "metadata": {},
   "source": [
    "### Some of the popular languages that Data Scientists use are:\n",
    "\n",
    "1. Python\n",
    "2. R\n",
    "3. Java"
   ]
  },
  {
   "cell_type": "markdown",
   "id": "b8752ed4-97a1-4ce6-b651-720b95a8c5ae",
   "metadata": {},
   "source": [
    "### Some of the commonly used libraries used by Data Scientists include:\n",
    "\n",
    "1. Numpy\n",
    "2. Pandas\n",
    "3. SciPy"
   ]
  },
  {
   "cell_type": "markdown",
   "id": "a9e8352c-9d7a-46d4-875e-068ff4c20fdf",
   "metadata": {
    "tags": []
   },
   "source": [
    "### Some of the commonly used tools used by Data Scientists include:\n",
    "\n",
    "Data Science Tools|\n",
    "------------------\n",
    "Jupyter Notebooks\n",
    "Jupyter Lab\n",
    "Visual Studio Code"
   ]
  },
  {
   "cell_type": "markdown",
   "id": "6a08c78d-b6ef-44b0-a826-aa43ded0d8d3",
   "metadata": {},
   "source": [
    "### Below are a few examples of evaluating arithmetic expressions in Python"
   ]
  },
  {
   "cell_type": "code",
   "execution_count": 18,
   "id": "99867631-f0a7-4861-9e6e-4ba55971a9d8",
   "metadata": {
    "tags": []
   },
   "outputs": [
    {
     "data": {
      "text/plain": [
       "17"
      ]
     },
     "execution_count": 18,
     "metadata": {},
     "output_type": "execute_result"
    }
   ],
   "source": [
    "# This a simple arithmetic expression to mutiply then add integers\n",
    "(3 * 4) + 5"
   ]
  },
  {
   "cell_type": "code",
   "execution_count": 22,
   "id": "ff3efb48-576b-4896-86c7-c5e1ead90edb",
   "metadata": {
    "tags": []
   },
   "outputs": [
    {
     "data": {
      "text/plain": [
       "3.3333333333333335"
      ]
     },
     "execution_count": 22,
     "metadata": {},
     "output_type": "execute_result"
    }
   ],
   "source": [
    "# This will convert 200 minutes to hours by diving by 60\n",
    "200 / 60"
   ]
  },
  {
   "cell_type": "markdown",
   "id": "1daaa722-d9b6-45a5-af15-29027b758b35",
   "metadata": {},
   "source": [
    "## Author\n",
    "Ahmed Alsammarai"
   ]
  }
 ],
 "metadata": {
  "kernelspec": {
   "display_name": "Python 3 (ipykernel)",
   "language": "python",
   "name": "python3"
  },
  "language_info": {
   "codemirror_mode": {
    "name": "ipython",
    "version": 3
   },
   "file_extension": ".py",
   "mimetype": "text/x-python",
   "name": "python",
   "nbconvert_exporter": "python",
   "pygments_lexer": "ipython3",
   "version": "3.11.7"
  }
 },
 "nbformat": 4,
 "nbformat_minor": 5
}
